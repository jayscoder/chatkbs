{
 "cells": [
  {
   "cell_type": "code",
   "execution_count": 7,
   "id": "bc764899",
   "metadata": {},
   "outputs": [],
   "source": [
    "import tensorflow_hub as hub\n",
    "\n",
    "embed = hub.load(\"https://wangtong15.oss-cn-beijing.aliyuncs.com/models/universal-sentence-encoder_4.tar.gz\")"
   ]
  },
  {
   "cell_type": "code",
   "execution_count": 15,
   "id": "e4e89ae7",
   "metadata": {},
   "outputs": [
    {
     "name": "stdout",
     "output_type": "stream",
     "text": [
      "tf.Tensor(\n",
      "[[-0.03136786 -0.06337468 -0.0161036  ... -0.03241023 -0.04576197\n",
      "   0.05369323]\n",
      " [ 0.05084193 -0.01647316  0.01571111 ...  0.00979835  0.03166691\n",
      "   0.01788216]], shape=(2, 512), dtype=float32)\n"
     ]
    }
   ],
   "source": [
    "embeddings = embed([\n",
    "    \"The quick brown fox jumps over the lazy dog. \",\n",
    "    \"I am a sentence for which I would like to get its embedding\"])\n",
    "\n",
    "print(embeddings)"
   ]
  },
  {
   "cell_type": "code",
   "execution_count": 1,
   "id": "9eb6ba3e",
   "metadata": {},
   "outputs": [
    {
     "name": "stderr",
     "output_type": "stream",
     "text": [
      "Explicitly passing a `revision` is encouraged when loading a model with custom code to ensure no malicious code has been contributed in a newer revision.\n"
     ]
    }
   ],
   "source": [
    "from transformers import AutoTokenizer, AutoModel\n",
    "import torch\n",
    "import config\n",
    "from typing import List, Tuple\n",
    "\n",
    "tokenizer = AutoTokenizer.from_pretrained(config.CHATGLM_MODEL_PATH, trust_remote_code=True)"
   ]
  },
  {
   "cell_type": "code",
   "execution_count": null,
   "id": "3d240ae2",
   "metadata": {},
   "outputs": [],
   "source": []
  }
 ],
 "metadata": {
  "kernelspec": {
   "display_name": "Python 3 (ipykernel)",
   "language": "python",
   "name": "python3"
  },
  "language_info": {
   "codemirror_mode": {
    "name": "ipython",
    "version": 3
   },
   "file_extension": ".py",
   "mimetype": "text/x-python",
   "name": "python",
   "nbconvert_exporter": "python",
   "pygments_lexer": "ipython3",
   "version": "3.9.16"
  }
 },
 "nbformat": 4,
 "nbformat_minor": 5
}
