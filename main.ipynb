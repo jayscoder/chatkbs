{
 "cells": [
  {
   "cell_type": "code",
   "execution_count": 1,
   "id": "bc764899",
   "metadata": {},
   "outputs": [
    {
     "name": "stderr",
     "output_type": "stream",
     "text": [
      "[nltk_data] Downloading package punkt to /home/wangtong/nltk_data...\n",
      "[nltk_data]   Package punkt is already up-to-date!\n",
      "[nltk_data] Downloading package stopwords to\n",
      "[nltk_data]     /home/wangtong/nltk_data...\n",
      "[nltk_data]   Package stopwords is already up-to-date!\n"
     ]
    }
   ],
   "source": [
    "from utils import *"
   ]
  },
  {
   "cell_type": "code",
   "execution_count": 2,
   "id": "9eb6ba3e",
   "metadata": {},
   "outputs": [
    {
     "name": "stderr",
     "output_type": "stream",
     "text": [
      "Explicitly passing a `revision` is encouraged when loading a model with custom code to ensure no malicious code has been contributed in a newer revision.\n",
      "Explicitly passing a `revision` is encouraged when loading a configuration with custom code to ensure no malicious code has been contributed in a newer revision.\n",
      "Explicitly passing a `revision` is encouraged when loading a model with custom code to ensure no malicious code has been contributed in a newer revision.\n",
      "2023-06-09 14:58:36.698432: I tensorflow/core/platform/cpu_feature_guard.cc:182] This TensorFlow binary is optimized to use available CPU instructions in performance-critical operations.\n",
      "To enable the following instructions: AVX2 FMA, in other operations, rebuild TensorFlow with the appropriate compiler flags.\n",
      "2023-06-09 14:58:37.267539: W tensorflow/compiler/tf2tensorrt/utils/py_utils.cc:38] TF-TRT Warning: Could not find TensorRT\n"
     ]
    },
    {
     "data": {
      "application/vnd.jupyter.widget-view+json": {
       "model_id": "7e3b3e7f9d1c4c059c9b57e66f5bac33",
       "version_major": 2,
       "version_minor": 0
      },
      "text/plain": [
       "Loading checkpoint shards:   0%|          | 0/8 [00:00<?, ?it/s]"
      ]
     },
     "metadata": {},
     "output_type": "display_data"
    }
   ],
   "source": [
    "from transformers import AutoTokenizer, AutoModel\n",
    "import torch\n",
    "from typing import List, Tuple\n",
    "\n",
    "tokenizer = AutoTokenizer.from_pretrained('THUDM/chatglm-6b', trust_remote_code=True)\n",
    "model = AutoModel.from_pretrained('THUDM/chatglm-6b', trust_remote_code=True).half().cuda(2)"
   ]
  },
  {
   "cell_type": "code",
   "execution_count": 27,
   "id": "3d240ae2",
   "metadata": {},
   "outputs": [],
   "source": [
    "def chat(prompt: str, history: List[Tuple[str, str]] = None, max_length=3000, top_p=0.7, temperature=0.95):\n",
    "    response, history = model.chat(\n",
    "            tokenizer,\n",
    "            prompt,\n",
    "            history=history,\n",
    "            max_length=max_length,\n",
    "            top_p=top_p,\n",
    "            temperature=temperature)\n",
    "    return response, history\n",
    "\n",
    "def stream_chat(prompt: str, history: List[Tuple[str, str]] = None, max_length=3000, top_p=0.7, temperature=0.95):\n",
    "    for response, history in model.stream_chat(\n",
    "            tokenizer,\n",
    "            prompt,\n",
    "            history=history,\n",
    "            max_length=max_length,\n",
    "            top_p=top_p,\n",
    "            temperature=temperature):\n",
    "        yield response, history"
   ]
  },
  {
   "cell_type": "code",
   "execution_count": 33,
   "id": "3e05e2d7",
   "metadata": {},
   "outputs": [],
   "source": [
    "filepath = 'data/未来智能空战发展综述_孙智孝.pdf'\n",
    "# filepath = 'data/Vaswani 等 - 2017 - Attention Is All You Need.pdf'\n",
    "text = advanced_read_text(filepath)"
   ]
  },
  {
   "cell_type": "code",
   "execution_count": 42,
   "id": "985ac4b5",
   "metadata": {},
   "outputs": [
    {
     "data": {
      "text/plain": [
       "'上下文: 这篇综述论文涵盖了智能空战研究的发展历程、挑战和发展趋势，重点讨论了交叉融合人工智能理论与空战对抗技术的研发和应用，以及智能空战的不确定性、安全性、解释性、迁移性、协同性等问题。该论文是一篇综述性文章，旨在为未来智能空战技术研究提供思路和方向。\\n\\n论文的主要研究内容包括：超视距空战的机动决策、影响图博弈、非合作博弈理论在空战博弈中的应用、博弈论相关方法的缺陷等。\\n\\n该论文探讨了智能空战领域的一些前沿问题，并提出了相应的解决方案。通过总结和分析，该论文为未来智能空战技术的发展提供了一些思路和方向。\\n\\n这篇综述论文涵盖了智能空战研究的发展历程、挑战和发展趋势，重点讨论了交叉融合人工智能理论与空战对抗技术的研发和应用，以及智能空战的不确定性、安全性、解释性、迁移性、协同性等问题。该论文是一篇综述性文章，旨在为未来智能空战技术研究提供思路和方向。\\n\\n主要研究内容包括：超视距空战的机动决策、影响图博弈、非合作博弈理论在空战博弈中的应用、博弈论相关方法的缺陷等。\\n\\n该论文探讨了智能空战领域的一些前沿问题，并提出了相应的解决方案。通过总结和分析，该论文为未来智能空战技术的发展提供了一些思路和方向。'"
      ]
     },
     "metadata": {},
     "output_type": "display_data"
    }
   ],
   "source": [
    "from IPython.display import clear_output, display\n",
    "\n",
    "limit = 10\n",
    "repeat = 2\n",
    "memory = ''\n",
    "chunks = text_to_chunks(text, size=1000, overlap=1, limit=10)\n",
    "question = '提取这篇论文的所有子标题'\n",
    "\n",
    "for rpi in range(repeat):\n",
    "    for idx, chunk in enumerate(chunks):\n",
    "        prompt = f'当前上下文：{memory}\\n---\\n新的上下文片段:\\n{chunk}\\n---\\n根据用户关心的问题\\\"{question}\\\"，结合新的上下文片段，生成新的上下文：' \n",
    "        for response, _ in stream_chat(prompt):\n",
    "            # 清除输出\n",
    "            clear_output(wait=True)\n",
    "            # 构造要显示的文本\n",
    "            # 显示文本\n",
    "            display(f\"当前进度: {idx+1 + rpi * len(chunks)}/{len(chunks) * repeat}\\n{response}\")\n",
    "            memory = response\n",
    "\n",
    "prompt = f'上下文: {memory}\\n---\\n{question}'\n",
    "\n",
    "for response, _ in stream_chat(prompt):\n",
    "        # 清除输出\n",
    "    clear_output(wait=True)\n",
    "    # 构造要显示的文本\n",
    "    # 显示文本\n",
    "    display(f\"上下文: {memory}\\n\\n{response}\")"
   ]
  },
  {
   "cell_type": "code",
   "execution_count": 31,
   "id": "976efe0f",
   "metadata": {},
   "outputs": [
    {
     "data": {
      "text/plain": [
       "'当前进度: 10/10'"
      ]
     },
     "execution_count": 31,
     "metadata": {},
     "output_type": "execute_result"
    }
   ],
   "source": []
  },
  {
   "cell_type": "code",
   "execution_count": 9,
   "id": "9a45d517",
   "metadata": {},
   "outputs": [
    {
     "data": {
      "text/plain": [
       "'航\\u3000空\\u3000学\\u3000报 Ａｕｇ．２５\\u3000２０２１ Ｖｏｌ．４２ Ｎｏ．８ Ａｃｔａ\\u3000Ａｅｒｏｎａｕｔｉｃａ\\u3000ｅｔ\\u3000Ａｓｔｒｏｎａｕｔｉｃａ\\u3000Ｓｉｎｉｃａ ＩＳＳＮ\\u3000１０００－６８９３\\u3000ＣＮ\\u3000１１－１９２９／Ｖ ５２５７９９－１ ｈｔｔｐ：／／ｈｋｘｂ．ｂｕａａ．ｅｄｕ．ｃｎ\\u3000ｈｋｘｂ＠ｂｕａａ．ｅｄｕ．ｃｎ 引用格式：孙智孝，杨晟琦，朴海音，等．未来智能空战发展综述［Ｊ］．航空学报，２０２１，４２（８）：５２５７９９．ＳＵＮ Ｚ Ｘ，ＹＡＮＧ Ｓ Ｑ，ＰＩＡＯ Ｈ Ｙ，ｅｔ ａｌ．Ａ ｓｕｒｖｅｙ ｏｆ ａｉｒ ｃｏｍｂａｔ ａｒｔｉｆｉｃｉａｌ ｉｎｔｅｌｌｉｇｅｎｃｅ［Ｊ］．Ａｃｔａ Ａｅｒｏｎａｕｔｉｃａ ｅｔ Ａｓｔｒｏｎａｕｔｉｃａ Ｓｉｎｉｃａ，２０２１，４２（８）：５２５７９９（ ｉｎ Ｃｈｉ－ ｎｅｓｅ）．ｄｏｉ：１０．７５２７／Ｓ１０００－６８９３．２０２１．２５７９９ 櫒櫒櫒 櫒櫒 櫒櫒櫒 櫒櫒 毃 毃 毃 毃 未来智能空战发展综述 综述 孙智孝１，杨晟琦１，朴海音１，２，＊，白成超３，葛俊１ １．航空工业沈阳飞机设计研究所，沈阳\\u3000１１００３５ ２．西北工业大学 电子信息学院，西安\\u3000７１００７２ ３．哈尔滨工业大学 航天学院，哈尔滨\\u3000１５０００１ 摘\\u3000要：随着装备战斗力生成模式逐渐向机械化、信息化、智能化“三化融合”发展演变，未来航空主战装备的定位、形态 及运用将可能发生根本性变革。为应对新时期空战任务所面临的环境高复杂性、博弈强对抗性、响应高实时性、信息不 完整性、边界不确定性等一系列挑战，交叉融合人工智能理论与空战对抗技术，研发智能空战系统，将有望在下一代无人 制空装备谱系中构建不对称“智能代差”，成为制胜未来空天战场的核心关键。本文完整梳理了智能空战研究的发展脉 络，总结了以专家机动逻辑、自动规则生成、规则演进、机器学习等方法为代表的智能空战基础理论。从体系、应用及技 术视角全面剖析了智能空战的发展趋势，以智能空战的不确定性、安全性、解释性、迁移性、协同性为切入点阐述了智能 空战应用落地的若干问题，以期为未来智能空战技术研究勾勒出一条新的探索路径，为人工智能理论与航空科学技术的 跨领域交叉融合提供新的发展思路。 关键词：空战；人工智能；演化计算；博弈；强化学习 中图分类号：Ｖ２７１\\u3000\\u3000\\u3000文献标识码：Ａ\\u3000\\u3000\\u3000文章编号：１０００－６８９３（２０２１）０８－５２５７９９－１５ 收稿日期：２０２１－０４－１５；退修日期：２０２１－０５－０８；录用日期：２０２１－０５－２６；网络出版时间：２０２１－０７－１９\\u3000１０：３４ 网络出版地址：ｈｔｔｐ：／／ｈｋｘｂ．ｂｕａａ．ｅｄｕ．ｃｎ／ＣＮ／ｈｔｍｌ／２０２１０８０３．ｈｔｍｌ ＊通信作者．Ｅ－ｍａｉｌ：ｈａｉｙｉｎｐｉａｏ＠ｍａｉｌ．ｎｗｐｕ．ｅｄｕ．ｃｎ 目前机器智能已迈入深度学习时代，人工智 能所赋能的空战博弈研究已经取得了实质性进 展。随着智能空战时代的到来，世界主要航空大 国及相关研究机构均将着力点聚焦到了新一代智 能空战体系的探索和研究，加大了对自主无人系 统装备以及智能化技术的研发投入，全面推动航 空装备与人工智能技术的融合发展，涌现出一大 批有代表性的研究成果。 美国国家航空航天局（Ｎａｔｉｏｎａｌ\\u3000Ａｅｒｏｎａｕｔｉｃｓ ａｎｄ\\u3000Ｓｐａｃｅ\\u3000Ａｄｍｉｎｉｓｔｒａｔｉｏｎ，ＮＡＳＡ）在２０世纪６０ 至９０年代持续专注研发基于专家规则的智能空 战系统，将人类在空战领域的知识和经验构建成 知识库，多次尝试用人工智能系统替代飞行员去 执行空战决策 ［１－５］。除此之外，遗传算法和遗传模 糊树等启发式方法也被应用到智能空战领域 ［６－８］， 其中采用遗传模糊树的“阿尔法空战”系统，首次 验证了基于人工智能的空战决策机制具备战胜人 类飞行员的潜力 ［６］。近些年，随着机器学习的爆 发，以深度学习和深度强化学习为代表的自演进 智能算法在空战行为涌现方面表现出巨大优势， 诸多基于此类方法研发的智能空战项目逐渐被提 出 ［９－１３］。比较有代表性的是美国国防高级研究计 划局 （Ｄｅｆｅｎｓｅ\\u3000Ａｄｖａｎｃｅｄ\\u3000Ｒｅｓｅａｒｃｈ\\u3000Ｐｒｏｊｅｃｔｓ\\u3000Ａ－ ｇｅｎｃｙ，ＤＡＲＰＡ）开展的人工智能近距空中格斗项 目，该项目挑战赛的冠军队伍采用深度强化学习 方法 在 人 机 大 战 中 以 大 比 分 战 胜 人 类 飞 行 员 ［１２－１３］，证明了机器学习类方法在解决空战决策 问题方面潜力巨大。 航\\u3000空\\u3000学\\u3000报 ５２５７９９－２ 虽然智能空战领域的研究取得了诸多进展， 但仍有很多技术难题需要攻克。在面对高动态、 强实时、不确定、非完美的复杂空战环境时，传统 的基于规则的专家系统已经无法满足作战需求。 而新兴的机器学习类方法虽然在能力涌现、自演 进、自学习等方面具有优势，但面对实际的工程落 地，仍需突破诸如智能空战的不确定性、可解释 性、安全性和可迁移性等瓶颈。 基于上述分析，本文重点梳理了智能空战技 术研究和应用的发展脉络，分析了各个发展阶段 具有代表性的项目，总结了智能空战决策相关的'"
      ]
     },
     "execution_count": 9,
     "metadata": {},
     "output_type": "execute_result"
    }
   ],
   "source": [
    "chunks[0]"
   ]
  },
  {
   "cell_type": "code",
   "execution_count": 52,
   "id": "8403760e",
   "metadata": {},
   "outputs": [
    {
     "data": {
      "text/plain": [
       "'孙智孝，杨晟琦，朴海音，等.未来智能空战发展综述[J].航空学报，2021,42(8):525799.\\nSun Z X,YANG S Q,PIAO H Y,et al.A survey of air combat artificial intelligence[J].Acta Aeronautica et Astronautica Sinica,2021,42(8):525799( in Chinese).\\ndoi:10.7527/S1000-6893.2021.25799'"
      ]
     },
     "execution_count": 52,
     "metadata": {},
     "output_type": "execute_result"
    }
   ],
   "source": [
    "p_chunks[0]"
   ]
  },
  {
   "cell_type": "code",
   "execution_count": 33,
   "id": "1344be57",
   "metadata": {},
   "outputs": [
    {
     "data": {
      "text/plain": [
       "'航\\u3000空\\u3000学\\u3000报 Ａｕｇ．２５\\u3000２０２１ Ｖｏｌ．４２ Ｎｏ．８ Ａｃｔａ\\u3000Ａｅｒｏｎａｕｔｉｃａ\\u3000ｅｔ\\u3000Ａｓｔｒｏｎａｕｔｉｃａ\\u3000Ｓｉｎｉｃａ ＩＳＳＮ\\u3000１０００－６８９３\\u3000ＣＮ\\u3000１１－１９２９／Ｖ ５２５７９９－１ ｈｔｔｐ：／／ｈｋｘｂ．ｂｕａａ．ｅｄｕ．ｃｎ\\u3000ｈｋｘｂ＠ｂｕａａ．ｅｄｕ．ｃｎ 引用格式：孙智孝，杨晟琦，朴海音，等．未来智能空战发展综述［Ｊ］．航空学报，２０２１，４２（８）：５２５７９９．ＳＵＮ Ｚ Ｘ，ＹＡＮＧ Ｓ Ｑ，ＰＩＡＯ Ｈ Ｙ，ｅｔ ａｌ．Ａ ｓｕｒｖｅｙ ｏｆ ａｉｒ ｃｏｍｂａｔ ａｒｔｉｆｉｃｉａｌ ｉｎｔｅｌｌｉｇｅｎｃｅ［Ｊ］．Ａｃｔａ Ａｅｒｏｎａｕｔｉｃａ ｅｔ Ａｓｔｒｏｎａｕｔｉｃａ Ｓｉｎｉｃａ，２０２１，４２（８）：５２５７９９（ ｉｎ Ｃｈｉ－ ｎｅｓｅ）．ｄｏｉ：１０．７５２７／Ｓ１０００－６８９３．２０２１．２５７９９ 櫒櫒櫒 櫒櫒 櫒櫒櫒 櫒櫒 毃 毃 毃 毃 未来智能空战发展综述 综述 孙智孝１，杨晟琦１，朴海音１，２，＊，白成超３，葛俊１ １．航空工业沈阳飞机设计研究所，沈阳\\u3000１１００３５ ２．西北工业大学 电子信息学院，西安\\u3000７１００７２ ３．哈尔滨工业大学 航天学院，哈尔滨\\u3000１５０００１ 摘\\u3000要：随着装备战斗力生成模式逐渐向机械化、信息化、智能化“三化融合”发展演变，未来航空主战装备的定位、形态 及运用将可能发生根本性变革。为应对新时期空战任务所面临的环境高复杂性、博弈强对抗性、响应高实时性、信息不 完整性、边界不确定性等一系列挑战，交叉融合人工智能理论与空战对抗技术，研发智能空战系统，将有望在下一代无人 制空装备谱系中构建不对称“智能代差”，成为制胜未来空天战场的核心关键。本文完整梳理了智能空战研究的发展脉 络，总结了以专家机动逻辑、自动规则生成、规则演进、机器学习等方法为代表的智能空战基础理论。从体系、应用及技 术视角全面剖析了智能空战的发展趋势，以智能空战的不确定性、安全性、解释性、迁移性、协同性为切入点阐述了智能 空战应用落地的若干问题，以期为未来智能空战技术研究勾勒出一条新的探索路径，为人工智能理论与航空科学技术的 跨领域交叉融合提供新的发展思路。 关键词：空战；人工智能；演化计算；博弈；强化学习 中图分类号：Ｖ２７１\\u3000\\u3000\\u3000文献标识码：Ａ\\u3000\\u3000\\u3000文章编号：１０００－６８９３（２０２１）０８－５２５７９９－１５ 收稿日期：２０２１－０４－１５；退修日期：２０２１－０５－０８；录用日期：２０２１－０５－２６；网络出版时间：２０２１－０７－１９\\u3000１０：３４'"
      ]
     },
     "execution_count": 33,
     "metadata": {},
     "output_type": "execute_result"
    }
   ],
   "source": [
    "chunks[0]"
   ]
  },
  {
   "cell_type": "code",
   "execution_count": null,
   "id": "dab6d5fb",
   "metadata": {},
   "outputs": [],
   "source": []
  },
  {
   "cell_type": "code",
   "execution_count": 76,
   "id": "2d1777ed",
   "metadata": {},
   "outputs": [
    {
     "data": {
      "text/plain": [
       "'航\\u3000空\\u3000学\\u3000报 Ａｕｇ．２５\\u3000２０２１ Ｖｏｌ．４２ Ｎｏ．８ Ａｃｔａ\\u3000Ａｅｒｏｎａｕｔｉｃａ\\u3000ｅｔ\\u3000Ａｓｔｒｏｎａｕｔｉｃａ\\u3000Ｓｉｎｉｃａ ＩＳＳＮ\\u3000１０００－６８９３\\u3000ＣＮ\\u3000１１－１９２９／Ｖ ５２５７９９－１ ｈｔｔｐ：／／ｈｋｘｂ．ｂｕａａ．ｅｄｕ．ｃｎ\\u3000ｈｋｘｂ＠ｂｕａａ．ｅｄｕ．ｃｎ 引用格式：孙智孝，杨晟琦，朴海音，等．未来智能空战发展综述［Ｊ］．航空学报，２０２１，４２（８）：５２５７９９．ＳＵＮ Ｚ Ｘ，ＹＡＮＧ Ｓ Ｑ，ＰＩＡＯ Ｈ Ｙ，ｅｔ ａｌ．Ａ ｓｕｒｖｅｙ ｏｆ ａｉｒ ｃｏｍｂａｔ ａｒｔｉｆｉｃｉａｌ ｉｎｔｅｌｌｉｇｅｎｃｅ［Ｊ］．Ａｃｔａ Ａｅｒｏｎａｕｔｉｃａ ｅｔ Ａｓｔｒｏｎａｕｔｉｃａ Ｓｉｎｉｃａ，２０２１，４２（８）：５２５７９９（ ｉｎ Ｃｈｉ－ ｎｅｓｅ）．ｄｏｉ：１０．７５２７／Ｓ１０００－６８９３．２０２１．２５７９９ 櫒櫒櫒 櫒櫒 櫒櫒櫒 櫒櫒 毃 毃 毃 毃 未来智能空战发展综述 综述 孙智孝１，杨晟琦１，朴海音１，２，＊，白成超３，葛俊１ １．航空工业沈阳飞机设计研究所，沈阳\\u3000１１００３５ ２．西北工业大学 电子信息学院，西安\\u3000７１００７２ ３．哈尔滨工业大学 航天学院，哈尔滨\\u3000１５０００１ 摘\\u3000要：随着装备战斗力生成模式逐渐向机械化、信息化、智能化“三化融合”发展演变，未来航空主战装备的定位、形态 及运用将可能发生根本性变革。为应对新时期空战任务所面临的环境高复杂性、博弈强对抗性、响应高实时性、信息不 完整性、边界不确定性等一系列挑战，交叉融合人工智能理论与空战对抗技术，研发智能空战系统，将有望在下一代无人 制空装备谱系中构建不对称“智能代差”，成为制胜未来空天战场的核心关键。本文完整梳理了智能空战研究的发展脉 络，总结了以专家机动逻辑、自动规则生成、规则演进、机器学习等方法为代表的智能空战基础理论。从体系、应用及技 术视角全面剖析了智能空战的发展趋势，以智能空战的不确定性、安全性、解释性、迁移性、协同性为切入点阐述了智能 空战应用落地的若干问题，以期为未来智能空战技术研究勾勒出一条新的探索路径，为人工智能理论与航空科学技术的 跨领域交叉融合提供新的发展思路。 关键词：空战；人工智能；演化计算；博弈；强化学习 中图分类号：Ｖ２７１\\u3000\\u3000\\u3000文献标识码：Ａ\\u3000\\u3000\\u3000文章编号：１０００－６８９３（２０２１）０８－５２５７９９－１５ 收稿日期：２０２１－０４－１５；退修日期：２０２１－０５－０８；录用日期：２０２１－０５－２６；网络出版时间：２０２１－０７－１９\\u3000１０：３４ 网络出版地址：ｈｔｔｐ：／／ｈｋｘｂ．ｂｕａａ．ｅｄｕ．ｃｎ／ＣＮ／ｈｔｍｌ／２０２１０８０３．ｈｔｍｌ ＊通信作者．Ｅ－ｍａｉｌ：ｈａｉｙｉｎｐｉａｏ＠ｍａｉｌ．ｎｗｐｕ．ｅｄｕ．ｃｎ 目前机器智能已迈入深度学习时代，人工智 能所赋能的空战博弈研究已经取得了实质性进 展。随着智能空战时代的到来，世界主要航空大 国及相关研究机构均将着力点聚焦到了新一代智 能空战体系的探索和研究，加大了对自主无人系 统装备以及智能化技术的研发投入，全面推动航 空装备与人工智能技术的融合发展，涌现出一大 批有代表性的研究成果。 美国国家航空航天局（Ｎａｔｉｏｎａｌ\\u3000Ａｅｒｏｎａｕｔｉｃｓ ａｎｄ\\u3000Ｓｐａｃｅ\\u3000Ａｄｍｉｎｉｓｔｒａｔｉｏｎ，ＮＡＳＡ）在２０世纪６０ 至９０年代持续专注研发基于专家规则的智能空 战系统，将人类在空战领域的知识和经验构建成 知识库，多次尝试用人工智能系统替代飞行员去 执行空战决策 ［１－５］。除此之外，遗传算法和遗传模 糊树等启发式方法也被应用到智能空战领域 ［６－８］， 其中采用遗传模糊树的“阿尔法空战”系统，首次 验证了基于人工智能的空战决策机制具备战胜人 类飞行员的潜力 ［６］。近些年，随着机器学习的爆 发，以深度学习和深度强化学习为代表的自演进 智能算法在空战行为涌现方面表现出巨大优势， 诸多基于此类方法研发的智能空战项目逐渐被提 出 ［９－１３］。比较有代表性的是美国国防高级研究计 划局 （Ｄｅｆｅｎｓｅ\\u3000Ａｄｖａｎｃｅｄ\\u3000Ｒｅｓｅａｒｃｈ\\u3000Ｐｒｏｊｅｃｔｓ\\u3000Ａ－ ｇｅｎｃｙ，ＤＡＲＰＡ）开展的人工智能近距空中格斗项 目，该项目挑战赛的冠军队伍采用深度强化学习 方法 在 人 机 大 战 中 以 大 比 分 战 胜 人 类 飞 行 员 ［１２－１３］，证明了机器学习类方法在解决空战决策 问题方面潜力巨大。 航\\u3000空\\u3000学\\u3000报 ５２５７９９－２ 虽然智能空战领域的研究取得了诸多进展， 但仍有很多技术难题需要攻克。在面对高动态、 强实时、不确定、非完美的复杂空战环境时，传统 的基于规则的专家系统已经无法满足作战需求。 而新兴的机器学习类方法虽然在能力涌现、自演 进、自学习等方面具有优势，但面对实际的工程落 地，仍需突破诸如智能空战的不确定性、可解释 性、安全性和可迁移性等瓶颈。 基于上述分析，本文重点梳理了智能空战技 术研究和应用的发展脉络，分析了各个发展阶段 具有代表性的项目，总结了智能空战决策相关的 基础理论，分析了智能空战技术的研究脉络，阐述 了必须解决的技术难点和其中存在的挑战，并展 望了未来智能空战的发展趋势，为未来智能空战 系统工程化应用这一重要而又富有挑战性的研究 领域提供了发展建议和探索方向。 １\\u3000智能空战之“形”———工程实践 自２０世纪６０年代以来，智能空战理论和工 程实践研究获得了国内外学术界与工业界的持续 关注。回顾其发展历程，从表象上看，历经了专家 机动逻辑、自动规则生成、规则演进、机器学习及 演示验证等５个主要历史阶段（如图１所示）。从 本质上看，智能空战研究正在从以人类经验为主 的传统专家系统迈向以机器智能自我演进为特征 的全新范式。这一认知清晰地勾勒出未来智能空 战系统技术探索的发展路线与技术挑战，正所谓 “由表及里”，即智能空战之“形”。 图１\\u3000智能空战发展脉络 Ｆｉｇ．１\\u3000Ｄｅｖｅｌｏｐｍｅｎｔ\\u3000ｐｒｏｃｅｓｓ\\u3000ｏｆ\\u3000ＡＩ\\u3000ｂａｓｅｄ\\u3000ａｉｒ\\u3000ｃｏｍｂａｔ\\u3000ｔｅｃｈｎｉｑｕｅｓ １．１\\u3000专 家 机 动 逻 辑 阶 段：ＮＡＳＡ 兰 利 研 究 中 心 ＡＭＬ系统 针对智能空战的研究最早起步于２０世纪６０ 年 代，Ｂｕｒｇｉｎ 和 Ｏｗｅｎｓ 自 １９６９ 年 起 着 手 在 ＮＡＳＡ 兰利研究中心的资助下为该研究中心的 微分机动模拟器（Ｄｉｆｆｅｒｅｎｔｉａｌ\\u3000Ｍａｎｅｕｖｅｒｉｎｇ\\u3000Ｓｉｍ－ ｕｌａｔｏｒ，ＤＭＳ）开 发 了 名 为 自 适 应 机 动 逻 辑 （Ａ－ ｄａｐｔｉｖｅ\\u3000Ｍａｎｅｕｖｅｒｉｎｇ\\u3000Ｌｏｇｉｃ，ＡＭＬ）的机动决策软 件 ［１］，其采 用 的 主 要 决 策 算 法 是 基 于 ＩＦ－ＥＬＳＥ－ ＴＨＥＮ 逻辑的专家系统。ＡＭＬ 不仅可以模拟敌 方的战斗机与操控模拟 器 的飞行员 进 行实时对 战，同时也可以通过操控模拟对抗中交战双方的 ２ 架 飞 机来实现 飞 机 及武器 系统的参数 研 究 等 工作。 ＡＭＬ系统是智能空战技术的首次系统性尝 航\\u3000空\\u3000学\\u3000报 ５２５７９９－３ 试。ＮＡＳＡ 认为，空战中机动决策过程存在高度 实时性、不确定性，难以给出准确的求解模型，而 经验丰富的战斗机飞行员熟知空中对抗的战术态 势和机动要领，故可以借助专家系统基于空中对 抗态势做出相应的快速决策，从而实现无人机在 自主空中对抗中的机动决 策 功 能 ［２］，因 此 ＡＭＬ 系统的主要研究基础是专家系统。 ＡＭＬ系统开发耗时近２０年，虽然是人类历 史上第一次用人工智能替代飞行员的大胆尝试， 但受限于当时的技术条件，仍存在诸多缺憾。例'"
      ]
     },
     "execution_count": 76,
     "metadata": {},
     "output_type": "execute_result"
    }
   ],
   "source": []
  },
  {
   "cell_type": "code",
   "execution_count": 77,
   "id": "1b2eb633",
   "metadata": {},
   "outputs": [
    {
     "data": {
      "text/plain": [
       "'［２］，因 此 ＡＭＬ 系统的主要研究基础是专家系统。 ＡＭＬ系统开发耗时近２０年，虽然是人类历 史上第一次用人工智能替代飞行员的大胆尝试， 但受限于当时的技术条件，仍存在诸多缺憾。例 如① 提升 ＡＭＬ 的规则库耗时冗长且非常依赖 飞行员对决策结果的评估；② 系统需将飞行员对 机动动作的偏好选择以硬编码的形式写入决策算 法中等 ［１－２］。 １．２\\u3000自 动 规 则 生 成 阶 段：ＮＡＳＡ 兰 利 研 究 中 心 ＰＡＬＡＤＩＮ 系统 ２０世纪９０年代，由于新型的高性能飞机开 始服役，为了应对大幅拓展且快速变化的空战战 术环境，ＮＡＳＡ 兰利研究中心继而支持开发了战 术引 导 研 究 与 评 估 系 统 （Ｔａｃｔｉｃａｌ\\u3000Ｇｕｉｄａｎｃｅ\\u3000Ｒｅ－ ｓｅａｒｃｈ\\u3000ａｎｄ\\u3000Ｅｖａｌｕａｔｉｏｎ\\u3000Ｓｙｓｔｅｍ，ＴＧＲＥＳ） ［３］。 该 系统由战术决策生成器（Ｔａｃｔｉｃａｌ\\u3000Ｄｅｃｉｓｉｏｎ\\u3000Ｇｅｎｅｒ－ ａｔｏｒ，ＴＤＧ） ［４］、战术机动模拟器（Ｔａｃｔｉｃａｌ\\u3000Ｍａｎｅｕ－ ｖｅｒｉｎｇ\\u3000Ｓｉｍｕｌａｔｏｒ，ＴＭＳ） ［５］以及微分机动模 拟 器 （Ｄｉｆｆｅｒｅｎｔｉａｌ\\u3000Ｍａｎｅｕｖｅｒｉｎｇ\\u3000Ｓｉｍｕｌａｔｏｒ，ＤＭＳ）３ 个 主要部 分 组 成。 而 帕 拉 丁 （ＰＡＬＡＤＩＮ）系 统 是 ＴＧＲＥＳ项目中以 ＡＭＬ 为基础开发的基于知识 的战术决策生成器。与 ＡＭＬ 不同的是，ＰＡＬＡ－ ＤＩＮ 并不依靠飞行员的经验建立知识库，而是依 据飞机本身数据以及空战战术的对抗仿真结果建 立知识库，从而可以为缺少实战经验的新型飞机 提供丰富的决策支持。除此之外，ＰＡＬＡＤＩＮ 系 统的规则库采用了模块化设计思路，从而将运算 速率大幅提升了９０～１００倍 ［４］。 对比 ＡＭＬ 系统，在 ＰＡＬＡＤＩＮ 系统的研究 过程中，洛克希德·马丁公司和艾姆斯研究中心 也积极参与，代表了智能空战从先期的理论研究 逐渐转向大规模的跨域系统工程研究。与 ＡＭＬ 相比，ＰＡＬＡＤＩＮ 系统最大的创新在于尝试了对 空战动力学和策略搜索空间进行数学建模，研究 领域从纯空战机动决策跨越到载荷调度和武器使 用。最为关键的是，其规则推理逻辑可以基于仿 真手段通过 ＴＤＧ 模块自动生成，这 打 破了人类 对空战既有知识的认知边界，给出了全新的形式 化的空间知识表达 ［４］。 １．３\\u3000规则演进阶段：“阿尔法空战”系统与空中双 边对抗学习系统 ２０１６年６月，辛辛那提大学与美国空军研究 实验室（Ａｉｒ\\u3000Ｆｏｒｃｅ\\u3000Ｒｅｓｅａｒｃｈ\\u3000Ｌａｂｏｒａｔｏｒｙ，ＡＦＲＬ） 共同披露了“阿尔法空战”系统 ［６］，该系统在模拟 空战中战胜了有着丰富经验的退役美国空军上校 基恩·李。其核心算法采用遗传模糊理论体系， 基于人类专家知识构建了多个并行模糊推理机， 根据其映射关系确定输入输出连接，进行实时决 策，解决了需要连续实时决策的高维复杂问题。 “阿尔法空战”系统的初始策略结构主要依赖人类 的先验知识建模，由于目前人类对空战机理的认 识具有一定程度上的局限性，其解空间搜索能力 很大程度上受限于人类设计好的结构 ［６］。作为运 用人工智能技术求解空中对抗博弈问题领域的里 程碑成果，“阿尔法空战”系统成功将演化计算应 用于求解复杂空中对抗问题，在策略参数研究方 面做出了积极的探索。 双边对抗学习系统 ［７］是波音公司和西英格兰 大学开展的机动对抗人工智能程序，该系统与“阿 尔法空战”系统同样基于“先进仿真、集成、建模框 架”（Ａｄｖａｎｃｅｄ\\u3000Ｆｒａｍｅｗｏｒｋ\\u3000ｆｏｒ\\u3000Ｓｉｍｕｌａｔｉｏｎ，Ｉｎｔｅ－ ｇｒａｔｉｏｎ\\u3000ａｎｄ\\u3000Ｍｏｄｅｌｉｎｇ，ＡＦＳＩＭ） ［８］进行开发，但研 究的重点在于通过大规模遗传算法进行对抗自博 弈，以期来验证智能空战决策能够脱离人类知识 限制，依靠机器智能创造出全新的空中对抗战术 策略。双边对抗学习系统与“阿尔法空战”系统类 似，也将态势—机动对编码为基因形式，通过大量 随机态势生成海量对抗样本，从而驱动遗传算法 在庞大的对抗博弈树空 间 中寻求适 应 度的最佳 值。与“阿尔法空战”系统的区别在于，双边对抗 学习系统明确指出，其对抗训练并非针对某个特 定的想定场景来进行，在环境适应性上更加鲁棒。 “阿尔法空战”系统及双边对抗学习系统所代 表的规则演进类方法首先验证了基于人工智能的 空战决策机制具备战胜飞行员的能力，同步说明 了相关技术途径是可行的。其次，开发“阿尔法空 航\\u3000空\\u3000学\\u3000报 ５２５７９９－４ 战”系统历经长达数十年的基础条件准备，比 如 ＡＦＲＬ的 ＡＦＳＩＭ 仿真系统作为基础智能对抗仿 真平台，支撑了多个先进研究项目的研制，这说明 支撑智能空战研究相关的仿真基础持续建设投入 是必要的。最后，双边对抗学习系统证明了不需 要人类的介入，单纯在机动层面，机器智能也具备 创造全新的对抗机动战术的能力与潜力。 规则演进阶段相比于专家机动逻辑阶段和规 则自动生成阶段在智能化程度上有了很大的提 升，但在技术应用中仍遇到了一些困难。例如依 赖人类先验知识进行初始设计的问题仍然存在， 这将导致训练更容易过拟合到人类已知的战术策 略。此外，规则演进类方法一般基于常规的遗传 算法或遗传模糊系统，其自学习能力与机器学习 类方法相比仍存在一定的差距。 １．４\\u3000机器学习阶段：空战自适应动态规划系统、 直升机机动飞行学习系统和“阿尔法狗斗” ２０１０年，麻省理工学院公开了空中对抗自适 应 动 态 规 划 （Ａｐｐｒｏｘｉｍａｔｅ\\u3000Ｄｙｎａｍｉｃ\\u3000Ｐｒｏｇｒａｍ－ ｍｉｎｇ，ＡＤＰ）系统 ［９－１０］。ＡＤＰ 的主 要 思 想 是 通 过 线性或者非线性的结构近似地表达所处状态的效 用函数，并通过值迭代或者策略迭代方法生成决 策策略。该系统随后在其“渡鸦”飞行对抗环境中 开展了博弈测试，证明了 ＡＤＰ 能够脱离人类给 定的策略规则完全自行学到有效且完整的平面对 抗战术。通过分析 ＡＤＰ，可以发现其具有如下特 点：① ＡＤＰ能够在环境中探索学习到大量有效 策略，如果模型抽象得当，理论上有可能创造出人 类未知的空中对抗策略；② ＡＤＰ 只能解决平面 对抗离散动作优化问题，因而很难直接应用于实 际的空战系统；③ ＡＤＰ需要对手空战策略模型， 而这些模型在实际情况中往往难以获得。 ２０１０年，斯 坦 福 大 学 吴 恩 达 （Ａｎｄｒｅｗ\\u3000Ｙ． Ｎｇ）团 队 开 发 了 直 升 机 机 动 飞 行 学 习 系 统 ［１１］。 基于逆强化学习实现了无人直升机的控制策略生 成，同时具备在一定外界扰动环境下的鲁棒性，从 实机测试结果可以看出该控制策略飞行表现要优 于飞手的控制，更加稳定可靠。但与空战对抗问 题相比，直升机机动控制问题要相对简单，因此很 难认为这种方式可以直接应用于智能空战系统。 本阶段与空战应用背景结合更紧密的是人工 智能近距空中格斗项目—“阿尔法狗斗”。该项目 挑战赛由 ＤＡＲＰＡ 战略技术办公室主办，旨在对 人工智能“狗斗”算法进行演示验证。最终经过激 烈角逐，苍鹭系统公司成为了冠军。在最后的人 机大战中，Ｆ－１６ 飞行 教官 Ｂａｎｇｅｒ以 ０：５ 的结果 惨败 ［１２］。根据公开的信息可知，苍鹭系统公司采 用了深度强化学习技术及多智能体分布式训练系 统架构。从试验数据回放来看，ＡＩ获胜的关键在 于其卓越的瞄准能力和敏捷的机动操纵能力，而对 创造性战术的理解能力却比较欠缺。简而言之，ＡＩ 在“态”的精度和“感”的速度上占得先机，但在“势” 的判断和“知”的预测上还不具备优势 ［１３］。 除此之外，２０２０年 １１ 月，Ｒｅｄ６ 与 ＥｐｉＳｃｉ公'"
      ]
     },
     "execution_count": 77,
     "metadata": {},
     "output_type": "execute_result"
    }
   ],
   "source": [
    "chunks[1]"
   ]
  },
  {
   "cell_type": "code",
   "execution_count": 44,
   "id": "b84654be",
   "metadata": {},
   "outputs": [
    {
     "name": "stdout",
     "output_type": "stream",
     "text": [
      "图1 智能空战发展脉络\n",
      "Fig.1 Development process of AI based air combat techniques\n"
     ]
    }
   ],
   "source": [
    "# 要判断一个字符是否属于中文、英文或数字中的一个\n",
    "def is_character_valid(character):\n",
    "    if character.isnumeric() or character.isalpha():\n",
    "        return True\n",
    "    elif '\\u4e00' <= character <= '\\u9fff':\n",
    "        return True\n",
    "    else:\n",
    "        return False\n",
    "\n",
    "\n",
    "def fix_newlines(text):\n",
    "    lines = text.split('\\n')\n",
    "    fixed_lines = []\n",
    "    for idx, line in enumerate(lines):\n",
    "        if line.strip() == '':\n",
    "            fixed_lines.append(line)\n",
    "            continue\n",
    "        if idx == 0:\n",
    "            fixed_lines.append(line)\n",
    "            continue\n",
    "        if line[0] == ' ':\n",
    "            # 第一个字符是空格，视为新的一行\n",
    "            fixed_lines.append(line)\n",
    "            continue\n",
    "\n",
    "        last_line = lines[idx - 1].strip()\n",
    "        if last_line != '':\n",
    "            last_ch = last_line[-1]\n",
    "            if last_ch in r',，\\/-——~～+=*^&%$#@[<《“、':\n",
    "                # 错误的换行符\n",
    "                fixed_lines[-1] += line\n",
    "                continue\n",
    "\n",
    "            if last_ch in ':：\"\\'':\n",
    "                # 错误的换行符\n",
    "                fixed_lines[-1] += ' ' + line\n",
    "                continue\n",
    "\n",
    "            if last_ch in '\\n。.！!？?；;:：……)]”':\n",
    "                # 另起一行\n",
    "                fixed_lines.append(line)\n",
    "                continue\n",
    "\n",
    "            if is_character_valid(last_ch):\n",
    "                # 错误的换行符\n",
    "                fixed_lines[-1] += line\n",
    "                continue\n",
    "\n",
    "        fixed_lines.append(line)\n",
    "\n",
    "    # 将文本连接成正确的格式\n",
    "    fixed_text = '\\n'.join(fixed_lines)\n",
    "    fixed_text = fixed_text.replace('\\n\\n', '\\n')\n",
    "    return fixed_text\n",
    "\n",
    "# 示例用法\n",
    "extracted_text = \"图1 智能空战发展脉络\\nFig.1 Development process of AI based air combat techniques\"\n",
    "fixed_text = fix_newlines(extracted_text)\n",
    "print(fixed_text)"
   ]
  },
  {
   "cell_type": "code",
   "execution_count": 15,
   "id": "0a128ea0",
   "metadata": {},
   "outputs": [
    {
     "data": {
      "text/plain": [
       "True"
      ]
     },
     "execution_count": 15,
     "metadata": {},
     "output_type": "execute_result"
    }
   ],
   "source": [
    "def is_punctuation(character):\n",
    "    if character.isalnum() or character.isspace():\n",
    "        return False\n",
    "    else:\n",
    "        return True\n",
    "is_non_punctuation('你')"
   ]
  },
  {
   "cell_type": "code",
   "execution_count": 16,
   "id": "39e423d8",
   "metadata": {},
   "outputs": [
    {
     "name": "stdout",
     "output_type": "stream",
     "text": [
      "!\"#$%&'()*+,-./:;<=>?@[\\]^_`{|}~\n"
     ]
    }
   ],
   "source": [
    "import string\n",
    "\n",
    "punctuation_symbols = string.punctuation\n",
    "print(punctuation_symbols)"
   ]
  },
  {
   "cell_type": "code",
   "execution_count": 96,
   "id": "6d3b14af",
   "metadata": {},
   "outputs": [
    {
     "data": {
      "text/plain": [
       "True"
      ]
     },
     "execution_count": 96,
     "metadata": {},
     "output_type": "execute_result"
    }
   ],
   "source": [
    "import re\n",
    "def is_label_number_format(text):\n",
    "    pattern = r'^[图表式]\\.*\\s*\\d+|^Fig\\.?\\d+|^Figure\\.?\\s*\\d+|^Table\\.?\\s*\\d+|^Equation\\.?\\s*\\d+|^Equ\\.?\\s*\\d+'\n",
    "    pattern = re.compile(pattern, re.IGNORECASE)\n",
    "    match = re.match(pattern, text)\n",
    "    if match:\n",
    "        return True\n",
    "    else:\n",
    "        return False\n",
    "is_label_number_format('figure1 你好')"
   ]
  },
  {
   "cell_type": "code",
   "execution_count": 84,
   "id": "fe1d5c2c",
   "metadata": {},
   "outputs": [
    {
     "name": "stdout",
     "output_type": "stream",
     "text": [
      "True\n"
     ]
    }
   ],
   "source": [
    "text = 'Figure1 你好'\n",
    "pattern = r'^Figure1'\n",
    "match = re.match(pattern, text)\n",
    "if match:\n",
    "    print(True)\n",
    "else:\n",
    "    print(False)"
   ]
  },
  {
   "cell_type": "code",
   "execution_count": 97,
   "id": "945e13f8",
   "metadata": {},
   "outputs": [
    {
     "ename": "SyntaxError",
     "evalue": "invalid syntax (2745365761.py, line 6)",
     "output_type": "error",
     "traceback": [
      "\u001b[0;36m  Cell \u001b[0;32mIn[97], line 6\u001b[0;36m\u001b[0m\n\u001b[0;31m    if ch\u001b[0m\n\u001b[0m          ^\u001b[0m\n\u001b[0;31mSyntaxError\u001b[0m\u001b[0;31m:\u001b[0m invalid syntax\n"
     ]
    }
   ],
   "source": [
    "# 替换掉错误的空格\n",
    "# 例子：（其采 用 的 主 要 决 策 算 法 是 基 于）\n",
    "def fix_error_space(text):\n",
    "    fixed_text = ''\n",
    "    for ch in text:\n",
    "        if ch "
   ]
  },
  {
   "cell_type": "code",
   "execution_count": null,
   "id": "25eeb01b",
   "metadata": {},
   "outputs": [],
   "source": []
  }
 ],
 "metadata": {
  "kernelspec": {
   "display_name": "Python 3 (ipykernel)",
   "language": "python",
   "name": "python3"
  },
  "language_info": {
   "codemirror_mode": {
    "name": "ipython",
    "version": 3
   },
   "file_extension": ".py",
   "mimetype": "text/x-python",
   "name": "python",
   "nbconvert_exporter": "python",
   "pygments_lexer": "ipython3",
   "version": "3.9.16"
  }
 },
 "nbformat": 4,
 "nbformat_minor": 5
}
